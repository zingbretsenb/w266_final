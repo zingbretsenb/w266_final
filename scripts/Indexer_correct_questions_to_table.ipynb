{
 "cells": [
  {
   "cell_type": "code",
   "execution_count": 1,
   "metadata": {},
   "outputs": [],
   "source": [
    "def question_matrix(f):\n",
    "    q_list = []\n",
    "    with open(f) as f:\n",
    "        for line in f:\n",
    "            line = line.strip()\n",
    "            if line == 'Incorrect :-(':\n",
    "                q_list.append(0) \n",
    "            elif line == 'Correct!':\n",
    "                q_list.append(1)\n",
    "            else:\n",
    "                continue\n",
    "    return q_list"
   ]
  },
  {
   "cell_type": "code",
   "execution_count": null,
   "metadata": {
    "collapsed": true
   },
   "outputs": [],
   "source": []
  }
 ],
 "metadata": {
  "kernelspec": {
   "display_name": "Python 3",
   "language": "python",
   "name": "python3"
  },
  "language_info": {
   "codemirror_mode": {
    "name": "ipython",
    "version": 3
   },
   "file_extension": ".py",
   "mimetype": "text/x-python",
   "name": "python",
   "nbconvert_exporter": "python",
   "pygments_lexer": "ipython3",
   "version": "3.6.3"
  }
 },
 "nbformat": 4,
 "nbformat_minor": 2
}
